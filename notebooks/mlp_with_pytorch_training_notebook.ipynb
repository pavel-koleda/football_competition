{
  "metadata": {
    "kernelspec": {
      "language": "python",
      "display_name": "Python 3",
      "name": "python3"
    },
    "language_info": {
      "name": "python",
      "version": "3.10.13",
      "mimetype": "text/x-python",
      "codemirror_mode": {
        "name": "ipython",
        "version": 3
      },
      "pygments_lexer": "ipython3",
      "nbconvert_exporter": "python",
      "file_extension": ".py"
    },
    "kaggle": {
      "accelerator": "none",
      "dataSources": [
        {
          "sourceId": 8083560,
          "sourceType": "datasetVersion",
          "datasetId": 4771530
        }
      ],
      "dockerImageVersionId": 30684,
      "isInternetEnabled": true,
      "language": "python",
      "sourceType": "notebook",
      "isGpuEnabled": false
    },
    "colab": {
      "provenance": []
    }
  },
  "nbformat_minor": 0,
  "nbformat": 4,
  "cells": [
    {
      "cell_type": "markdown",
      "source": [
        "## Repository configuration"
      ],
      "metadata": {
        "id": "2NGasH-2sXOO"
      }
    },
    {
      "cell_type": "code",
      "source": [
        "# Allows getting information about GPU\n",
        "!nvidia-smi"
      ],
      "metadata": {
        "jupyter": {
          "outputs_hidden": false
        },
        "execution": {
          "iopub.status.busy": "2024-04-10T13:36:27.551827Z",
          "iopub.execute_input": "2024-04-10T13:36:27.552170Z",
          "iopub.status.idle": "2024-04-10T13:36:28.568932Z",
          "shell.execute_reply.started": "2024-04-10T13:36:27.552141Z",
          "shell.execute_reply": "2024-04-10T13:36:28.567802Z"
        },
        "trusted": true,
        "id": "TxVvPbjFsXOR"
      },
      "execution_count": null,
      "outputs": []
    },
    {
      "cell_type": "code",
      "source": [
        "# Clone project from your GitHub repository (replace <TOKEN>, <REPOSITORY_URL>, <REPOSITORY_NAME> with your own values)\n",
        "\n",
        "# To get token, please follow the instructions from:\n",
        "# https://docs.github.com/en/authentication/keeping-your-account-and-data-secure/managing-your-personal-access-tokens#creating-a-fine-grained-personal-access-token\n",
        "!git clone -b solution https://<TOKEN>@github.com/<REPOSITORY_URL>\n",
        "%cd \"<REPOSITORY_NAME>\""
      ],
      "metadata": {
        "execution": {
          "iopub.status.busy": "2024-04-10T13:36:28.571071Z",
          "iopub.execute_input": "2024-04-10T13:36:28.571372Z",
          "iopub.status.idle": "2024-04-10T13:36:29.540261Z",
          "shell.execute_reply.started": "2024-04-10T13:36:28.571343Z",
          "shell.execute_reply": "2024-04-10T13:36:29.539212Z"
        },
        "trusted": true,
        "id": "mCE907aWsXOS"
      },
      "execution_count": null,
      "outputs": []
    },
    {
      "cell_type": "code",
      "source": [
        "# Install requirements\n",
        "!pip install -r requirements.txt\n",
        "!pip3 install torch torchvision"
      ],
      "metadata": {
        "execution": {
          "iopub.status.busy": "2024-04-10T13:36:29.541730Z",
          "iopub.execute_input": "2024-04-10T13:36:29.542050Z",
          "iopub.status.idle": "2024-04-10T13:36:47.724033Z",
          "shell.execute_reply.started": "2024-04-10T13:36:29.542014Z",
          "shell.execute_reply": "2024-04-10T13:36:47.722938Z"
        },
        "trusted": true,
        "id": "yvWahdzjsXOT"
      },
      "execution_count": null,
      "outputs": []
    },
    {
      "cell_type": "markdown",
      "source": [
        "## Session configurations"
      ],
      "metadata": {
        "id": "yPiNZZ6fsXOU"
      }
    },
    {
      "cell_type": "code",
      "source": [
        "import os\n",
        "\n",
        "from easydict import EasyDict\n",
        "from torchvision import transforms\n",
        "\n",
        "from utils.enums import WeightsInitType, LayerType"
      ],
      "metadata": {
        "execution": {
          "iopub.status.busy": "2024-04-10T13:36:47.726318Z",
          "iopub.execute_input": "2024-04-10T13:36:47.726618Z",
          "iopub.status.idle": "2024-04-10T13:36:51.013306Z",
          "shell.execute_reply.started": "2024-04-10T13:36:47.726589Z",
          "shell.execute_reply": "2024-04-10T13:36:51.012523Z"
        },
        "trusted": true,
        "id": "kTzfNn3isXOU"
      },
      "execution_count": null,
      "outputs": []
    },
    {
      "cell_type": "code",
      "source": [
        "# neptune.ai logger environment variables (replace <TOKEN>, <EXPERIMENTS_DIR> with your own values)\n",
        "os.environ['NEPTUNE_API_TOKEN'] = '<TOKEN>'\n",
        "os.environ['NEPTUNE_DATA_DIRECTORY'] = '<EXPERIMENTS_DIR>'"
      ],
      "metadata": {
        "jupyter": {
          "outputs_hidden": false
        },
        "execution": {
          "iopub.status.busy": "2024-04-10T13:36:51.014375Z",
          "iopub.execute_input": "2024-04-10T13:36:51.014725Z",
          "iopub.status.idle": "2024-04-10T13:36:51.019628Z",
          "shell.execute_reply.started": "2024-04-10T13:36:51.014701Z",
          "shell.execute_reply": "2024-04-10T13:36:51.018721Z"
        },
        "trusted": true,
        "id": "nOByHxoFsXOV"
      },
      "execution_count": null,
      "outputs": []
    },
    {
      "cell_type": "markdown",
      "source": [
        "### Dataset configurations"
      ],
      "metadata": {
        "id": "FSVcSOgJsXOV"
      }
    },
    {
      "cell_type": "code",
      "source": [
        "ROOT_DIR = '/kaggle/input'\n",
        "\n",
        "data_cfg = EasyDict()\n",
        "\n",
        "# Path to the directory with dataset files\n",
        "data_cfg.path_to_data = os.path.join(ROOT_DIR, 'emotion_detection')\n",
        "data_cfg.annot_filename = 'data_info.csv'\n",
        "\n",
        "# Label mapping\n",
        "data_cfg.label_mapping = {\n",
        "    'angry': 0,\n",
        "    'disgusted': 1,\n",
        "    'fearful': 2,\n",
        "    'happy': 3,\n",
        "    'neutral': 4,\n",
        "    'sad': 5,\n",
        "    'surprised': 6\n",
        "}\n",
        "data_cfg.classes_num = 7\n",
        "\n",
        "# Training configuration\n",
        "data_cfg.train_transforms = transforms.Compose([\n",
        "    transforms.Resize((32, 32)),\n",
        "    transforms.ToTensor(),\n",
        "    transforms.Normalize(mean=(0.5,), std=(0.5,))\n",
        "])\n",
        "\n",
        "data_cfg.eval_transforms = transforms.Compose([\n",
        "    transforms.Resize((32, 32)),\n",
        "    transforms.ToTensor(),\n",
        "    transforms.Normalize(mean=(0.5,), std=(0.5,))\n",
        "])\n"
      ],
      "metadata": {
        "execution": {
          "iopub.status.busy": "2024-04-10T13:36:51.020787Z",
          "iopub.execute_input": "2024-04-10T13:36:51.021225Z",
          "iopub.status.idle": "2024-04-10T13:36:51.029516Z",
          "shell.execute_reply.started": "2024-04-10T13:36:51.021199Z",
          "shell.execute_reply": "2024-04-10T13:36:51.028618Z"
        },
        "trusted": true,
        "id": "wXd0LVhTsXOV"
      },
      "execution_count": null,
      "outputs": []
    },
    {
      "cell_type": "markdown",
      "source": [
        "### Model configurations"
      ],
      "metadata": {
        "id": "SL16Y7XosXOW"
      }
    },
    {
      "cell_type": "code",
      "source": [
        "model_cfg = EasyDict()\n",
        "\n",
        "# Layers configuration\n",
        "model_cfg.layers = [\n",
        "    {'type': LayerType.Linear, 'params': {'in_features': 32 * 32, 'out_features': 128, 'bias': True}},\n",
        "    {'type': LayerType.ReLU, 'params': {}},\n",
        "    {'type': LayerType.Dropout, 'params': {'p': 0.2}},\n",
        "    {'type': LayerType.Linear, 'params': {'in_features': 128, 'out_features': 64, 'bias': True}},\n",
        "    {'type': LayerType.ReLU, 'params': {}},\n",
        "    {'type': LayerType.Dropout, 'params': {'p': 0.2}},\n",
        "    {'type': LayerType.Linear, 'params': {'in_features': 64, 'out_features': 7, 'bias': True}},\n",
        "]\n",
        "\n",
        "# Weights and bias initialization\n",
        "model_cfg.params = EasyDict()\n",
        "model_cfg.params.init_type = WeightsInitType.xavier_uniform\n",
        "# More details about initialization methods parameters can be found here: https://pytorch.org/docs/stable/nn.init.html\n",
        "model_cfg.params.init_kwargs = {}\n",
        "model_cfg.params.zero_bias = True"
      ],
      "metadata": {
        "execution": {
          "iopub.status.busy": "2024-04-10T13:36:51.030890Z",
          "iopub.execute_input": "2024-04-10T13:36:51.031563Z",
          "iopub.status.idle": "2024-04-10T13:36:51.042778Z",
          "shell.execute_reply.started": "2024-04-10T13:36:51.031536Z",
          "shell.execute_reply": "2024-04-10T13:36:51.041872Z"
        },
        "trusted": true,
        "id": "O1xCS64xsXOW"
      },
      "execution_count": null,
      "outputs": []
    },
    {
      "cell_type": "markdown",
      "source": [
        "### Experiment configurations"
      ],
      "metadata": {
        "id": "2nxXRSoGsXOW"
      }
    },
    {
      "cell_type": "code",
      "source": [
        "# Replace <REPOSITORY_NAME>, <PROJECT_NAME>, <EXPERIMENT_NAME> with your own values\n",
        "OUTPUT_DIR = '/kaggle/working/<REPOSITORY_NAME>'\n",
        "\n",
        "experiment_cfg = EasyDict()\n",
        "experiment_cfg.seed = 0\n",
        "experiment_cfg.num_epochs = 20\n",
        "\n",
        "# Train parameters\n",
        "experiment_cfg.train = EasyDict()\n",
        "experiment_cfg.train.batch_size = 64\n",
        "experiment_cfg.train.learning_rate = 1e-3\n",
        "experiment_cfg.train.continue_train = False\n",
        "experiment_cfg.train.checkpoint_from_epoch = None\n",
        "\n",
        "# Overfit parameters\n",
        "experiment_cfg.overfit = EasyDict()\n",
        "experiment_cfg.overfit.num_iterations = 500\n",
        "\n",
        "# Neptune parameters\n",
        "experiment_cfg.neptune = EasyDict()\n",
        "experiment_cfg.neptune.env_path = os.path.join(ROOT_DIR, '.env')\n",
        "experiment_cfg.neptune.project = '<PROJECT_NAME>'\n",
        "experiment_cfg.neptune.experiment_name = '<EXPERIMENT_NAME>'\n",
        "experiment_cfg.neptune.run_id = None\n",
        "experiment_cfg.neptune.dependencies_path = os.path.join(ROOT_DIR, 'requirements.txt')\n",
        "\n",
        "# MLflow parameters\n",
        "experiment_cfg.mlflow = EasyDict()\n",
        "experiment_cfg.mlflow.tracking_uri = 'http://127.0.0.1:5000'\n",
        "experiment_cfg.mlflow.experiment_name = ''\n",
        "experiment_cfg.mlflow.run_id = None\n",
        "experiment_cfg.mlflow.dependencies_path = os.path.join(ROOT_DIR, 'requirements.txt')\n",
        "\n",
        "# Checkpoints parameters\n",
        "experiment_cfg.checkpoints_dir = os.path.join(OUTPUT_DIR, 'experiments', experiment_cfg.neptune.experiment_name, 'checkpoints')\n",
        "experiment_cfg.checkpoint_save_frequency = 1\n",
        "experiment_cfg.checkpoint_name = 'checkpoint_%s'\n",
        "experiment_cfg.best_checkpoint_name = 'best_checkpoint'\n",
        "\n",
        "# Data parameters\n",
        "experiment_cfg.data = data_cfg\n",
        "\n",
        "# Model parameters\n",
        "experiment_cfg.model = model_cfg"
      ],
      "metadata": {
        "execution": {
          "iopub.status.busy": "2024-04-10T13:36:51.044044Z",
          "iopub.execute_input": "2024-04-10T13:36:51.044937Z",
          "iopub.status.idle": "2024-04-10T13:36:51.053414Z",
          "shell.execute_reply.started": "2024-04-10T13:36:51.044910Z",
          "shell.execute_reply": "2024-04-10T13:36:51.052525Z"
        },
        "trusted": true,
        "id": "OrJUK0RJsXOW"
      },
      "execution_count": null,
      "outputs": []
    },
    {
      "cell_type": "markdown",
      "source": [
        "## Training and evaluation"
      ],
      "metadata": {
        "id": "B4o4t_c8sXOX"
      }
    },
    {
      "cell_type": "code",
      "source": [
        "import pandas as pd\n",
        "\n",
        "from dataset.emotions_dataset import EmotionsDataset\n",
        "from executors.trainer import Trainer\n",
        "from torch.utils.data import DataLoader\n",
        "from utils.enums import SetType"
      ],
      "metadata": {
        "execution": {
          "iopub.status.busy": "2024-04-10T13:49:39.498159Z",
          "iopub.execute_input": "2024-04-10T13:49:39.498530Z",
          "iopub.status.idle": "2024-04-10T13:49:39.503414Z",
          "shell.execute_reply.started": "2024-04-10T13:49:39.498500Z",
          "shell.execute_reply": "2024-04-10T13:49:39.502490Z"
        },
        "trusted": true,
        "id": "4u0ot_6xsXOX"
      },
      "execution_count": null,
      "outputs": []
    },
    {
      "cell_type": "code",
      "source": [
        "# Trainer initialization\n",
        "trainer = Trainer(experiment_cfg)"
      ],
      "metadata": {
        "execution": {
          "iopub.status.busy": "2024-04-10T13:36:53.450963Z",
          "iopub.execute_input": "2024-04-10T13:36:53.451412Z",
          "iopub.status.idle": "2024-04-10T13:36:57.833081Z",
          "shell.execute_reply.started": "2024-04-10T13:36:53.451384Z",
          "shell.execute_reply": "2024-04-10T13:36:57.831978Z"
        },
        "trusted": true,
        "id": "JrAAjyOEsXOX"
      },
      "execution_count": null,
      "outputs": []
    },
    {
      "cell_type": "code",
      "source": [
        "# Training\n",
        "trainer.fit()"
      ],
      "metadata": {
        "scrolled": true,
        "execution": {
          "iopub.status.busy": "2024-04-10T13:36:57.834800Z",
          "iopub.execute_input": "2024-04-10T13:36:57.835116Z",
          "iopub.status.idle": "2024-04-10T13:45:22.279226Z",
          "shell.execute_reply.started": "2024-04-10T13:36:57.835087Z",
          "shell.execute_reply": "2024-04-10T13:45:22.277903Z"
        },
        "trusted": true,
        "id": "vePYJHGMsXOX"
      },
      "execution_count": null,
      "outputs": []
    },
    {
      "cell_type": "code",
      "source": [
        "# Make predictions\n",
        "\n",
        "# Initialiaze trainer instance if new session\n",
        "# trainer = Trainer(experiment_cfg, init_logger=False)\n",
        "\n",
        "# Get data to make predictions on\n",
        "test_dataset = EmotionsDataset(data_cfg, SetType.test, transforms=data_cfg.eval_transforms)\n",
        "test_dataloader = DataLoader(test_dataset, experiment_cfg.train.batch_size, shuffle=False)\n",
        "\n",
        "# Get predictions\n",
        "model_path = experiment_cfg.best_checkpoint_name\n",
        "predictions, image_paths = trainer.predict(model_path, test_dataloader)\n",
        "\n",
        "# Save results to submission file\n",
        "test_results_df = pd.DataFrame({'ID': image_paths, 'prediction': predictions})\n",
        "test_results_df.to_csv('test_predictions.csv', index=False)"
      ],
      "metadata": {
        "execution": {
          "iopub.status.busy": "2024-04-10T13:49:43.134260Z",
          "iopub.execute_input": "2024-04-10T13:49:43.135020Z",
          "iopub.status.idle": "2024-04-10T13:49:57.039556Z",
          "shell.execute_reply.started": "2024-04-10T13:49:43.134986Z",
          "shell.execute_reply": "2024-04-10T13:49:57.038800Z"
        },
        "trusted": true,
        "id": "kAOyn5SxsXOX"
      },
      "execution_count": null,
      "outputs": []
    },
    {
      "cell_type": "markdown",
      "source": [
        "## Some notes"
      ],
      "metadata": {
        "id": "_z_yTmaesXOX"
      }
    },
    {
      "cell_type": "code",
      "source": [
        "# For long-time running experiments use 'Save & Run All' mode. From documentation:\n",
        "# Save & Run All creates a new session with a completely clean state and runs your notebook from top to bottom.\n",
        "# This is perfect for major milestones or when you want to share your work, as it gives you (and anyone else who reads your notebook) the confidence that your notebook can be run reproducibly.\n",
        "# In order to save successfully, the entire Notebook must execute within 12 hours (9 hours for TPU notebooks).\n",
        "# Save & Run All is identical to the “Commit” behavior you may have used previously on Kaggle.\n",
        "\n",
        "# GPU is turned off by default. To use GPU accelerator at the backend:\n",
        "# When run the notebook as usually: Session options-> accelerator -> GPU P100\n",
        "# When run in \"Save & Run All\" mode: Save version -> version type (Save & Run All (Commit) -> advanced settings -> \"Run with GPU for this session\""
      ],
      "metadata": {
        "jupyter": {
          "outputs_hidden": false
        },
        "execution": {
          "iopub.status.busy": "2024-04-10T13:45:22.280196Z",
          "iopub.status.idle": "2024-04-10T13:45:22.280610Z",
          "shell.execute_reply.started": "2024-04-10T13:45:22.280384Z",
          "shell.execute_reply": "2024-04-10T13:45:22.280400Z"
        },
        "trusted": true,
        "id": "2xyxuYRhsXOY"
      },
      "execution_count": null,
      "outputs": []
    }
  ]
}